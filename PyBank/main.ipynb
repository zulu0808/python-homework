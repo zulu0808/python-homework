{
 "metadata": {
  "language_info": {
   "codemirror_mode": {
    "name": "ipython",
    "version": 3
   },
   "file_extension": ".py",
   "mimetype": "text/x-python",
   "name": "python",
   "nbconvert_exporter": "python",
   "pygments_lexer": "ipython3",
   "version": "3.8.3-final"
  },
  "orig_nbformat": 2,
  "kernelspec": {
   "name": "Python 3.8.3 64-bit ('base': conda)",
   "display_name": "Python 3.8.3 64-bit ('base': conda)",
   "metadata": {
    "interpreter": {
     "hash": "b4b4dc74988984691df051c905799b05d1026511a7a8aeb2dbc757c0618e44e9"
    }
   }
  }
 },
 "nbformat": 4,
 "nbformat_minor": 2,
 "cells": [
  {
   "cell_type": "code",
   "execution_count": 1,
   "metadata": {},
   "outputs": [],
   "source": [
    "import pandas as pandas"
   ]
  },
  {
   "cell_type": "code",
   "execution_count": 2,
   "metadata": {},
   "outputs": [],
   "source": [
    "import numpy as numpy"
   ]
  },
  {
   "cell_type": "code",
   "execution_count": 3,
   "metadata": {},
   "outputs": [],
   "source": [
    "import numpy_financial as numpyf"
   ]
  },
  {
   "cell_type": "code",
   "execution_count": 10,
   "metadata": {},
   "outputs": [],
   "source": [
    "data = pandas.read_csv (r'C:\\Users\\local.admin\\documents\\GitHub\\python-homework\\PyBank\\hw_02-Python_Instructions_PyBank_Resources_budget_data.csv')"
   ]
  },
  {
   "cell_type": "code",
   "execution_count": 11,
   "metadata": {},
   "outputs": [
    {
     "output_type": "execute_result",
     "data": {
      "text/plain": "        Date  Profit/Losses\n0   Jan-2010         867884\n1   Feb-2010         984655\n2   Mar-2010         322013\n3   Apr-2010         -69417\n4   May-2010         310503\n..       ...            ...\n81  Oct-2016         102685\n82  Nov-2016         795914\n83  Dec-2016          60988\n84  Jan-2017         138230\n85  Feb-2017         671099\n\n[86 rows x 2 columns]",
      "text/html": "<div>\n<style scoped>\n    .dataframe tbody tr th:only-of-type {\n        vertical-align: middle;\n    }\n\n    .dataframe tbody tr th {\n        vertical-align: top;\n    }\n\n    .dataframe thead th {\n        text-align: right;\n    }\n</style>\n<table border=\"1\" class=\"dataframe\">\n  <thead>\n    <tr style=\"text-align: right;\">\n      <th></th>\n      <th>Date</th>\n      <th>Profit/Losses</th>\n    </tr>\n  </thead>\n  <tbody>\n    <tr>\n      <th>0</th>\n      <td>Jan-2010</td>\n      <td>867884</td>\n    </tr>\n    <tr>\n      <th>1</th>\n      <td>Feb-2010</td>\n      <td>984655</td>\n    </tr>\n    <tr>\n      <th>2</th>\n      <td>Mar-2010</td>\n      <td>322013</td>\n    </tr>\n    <tr>\n      <th>3</th>\n      <td>Apr-2010</td>\n      <td>-69417</td>\n    </tr>\n    <tr>\n      <th>4</th>\n      <td>May-2010</td>\n      <td>310503</td>\n    </tr>\n    <tr>\n      <th>...</th>\n      <td>...</td>\n      <td>...</td>\n    </tr>\n    <tr>\n      <th>81</th>\n      <td>Oct-2016</td>\n      <td>102685</td>\n    </tr>\n    <tr>\n      <th>82</th>\n      <td>Nov-2016</td>\n      <td>795914</td>\n    </tr>\n    <tr>\n      <th>83</th>\n      <td>Dec-2016</td>\n      <td>60988</td>\n    </tr>\n    <tr>\n      <th>84</th>\n      <td>Jan-2017</td>\n      <td>138230</td>\n    </tr>\n    <tr>\n      <th>85</th>\n      <td>Feb-2017</td>\n      <td>671099</td>\n    </tr>\n  </tbody>\n</table>\n<p>86 rows × 2 columns</p>\n</div>"
     },
     "metadata": {},
     "execution_count": 11
    }
   ],
   "source": [
    "data"
   ]
  },
  {
   "cell_type": "code",
   "execution_count": 12,
   "metadata": {},
   "outputs": [],
   "source": [
    "df = pandas.DataFrame(data, columns= ['Date','Profit/Losses'])"
   ]
  },
  {
   "cell_type": "code",
   "execution_count": 13,
   "metadata": {},
   "outputs": [
    {
     "output_type": "execute_result",
     "data": {
      "text/plain": "        Date  Profit/Losses\n0   Jan-2010         867884\n1   Feb-2010         984655\n2   Mar-2010         322013\n3   Apr-2010         -69417\n4   May-2010         310503\n..       ...            ...\n81  Oct-2016         102685\n82  Nov-2016         795914\n83  Dec-2016          60988\n84  Jan-2017         138230\n85  Feb-2017         671099\n\n[86 rows x 2 columns]",
      "text/html": "<div>\n<style scoped>\n    .dataframe tbody tr th:only-of-type {\n        vertical-align: middle;\n    }\n\n    .dataframe tbody tr th {\n        vertical-align: top;\n    }\n\n    .dataframe thead th {\n        text-align: right;\n    }\n</style>\n<table border=\"1\" class=\"dataframe\">\n  <thead>\n    <tr style=\"text-align: right;\">\n      <th></th>\n      <th>Date</th>\n      <th>Profit/Losses</th>\n    </tr>\n  </thead>\n  <tbody>\n    <tr>\n      <th>0</th>\n      <td>Jan-2010</td>\n      <td>867884</td>\n    </tr>\n    <tr>\n      <th>1</th>\n      <td>Feb-2010</td>\n      <td>984655</td>\n    </tr>\n    <tr>\n      <th>2</th>\n      <td>Mar-2010</td>\n      <td>322013</td>\n    </tr>\n    <tr>\n      <th>3</th>\n      <td>Apr-2010</td>\n      <td>-69417</td>\n    </tr>\n    <tr>\n      <th>4</th>\n      <td>May-2010</td>\n      <td>310503</td>\n    </tr>\n    <tr>\n      <th>...</th>\n      <td>...</td>\n      <td>...</td>\n    </tr>\n    <tr>\n      <th>81</th>\n      <td>Oct-2016</td>\n      <td>102685</td>\n    </tr>\n    <tr>\n      <th>82</th>\n      <td>Nov-2016</td>\n      <td>795914</td>\n    </tr>\n    <tr>\n      <th>83</th>\n      <td>Dec-2016</td>\n      <td>60988</td>\n    </tr>\n    <tr>\n      <th>84</th>\n      <td>Jan-2017</td>\n      <td>138230</td>\n    </tr>\n    <tr>\n      <th>85</th>\n      <td>Feb-2017</td>\n      <td>671099</td>\n    </tr>\n  </tbody>\n</table>\n<p>86 rows × 2 columns</p>\n</div>"
     },
     "metadata": {},
     "execution_count": 13
    }
   ],
   "source": [
    "df"
   ]
  },
  {
   "cell_type": "code",
   "execution_count": 16,
   "metadata": {},
   "outputs": [],
   "source": [
    "# TotalMonths - sum\n",
    "count = df ['Date'].count ()"
   ]
  },
  {
   "cell_type": "code",
   "execution_count": 22,
   "metadata": {
    "tags": []
   },
   "outputs": [
    {
     "output_type": "stream",
     "name": "stdout",
     "text": "The total number of months is 86\n"
    }
   ],
   "source": [
    "print (\"The total number of months is\", count)"
   ]
  },
  {
   "cell_type": "code",
   "execution_count": 19,
   "metadata": {},
   "outputs": [],
   "source": [
    "# TotalP/L - Profit/Losses\n",
    "sum = df ['Profit/Losses'].sum ()"
   ]
  },
  {
   "cell_type": "code",
   "execution_count": 24,
   "metadata": {
    "tags": []
   },
   "outputs": [
    {
     "output_type": "stream",
     "name": "stdout",
     "text": "The total P/L over 86 months is 38382578\n"
    }
   ],
   "source": [
    "print (\"The total P/L over 86 months is\", sum)"
   ]
  },
  {
   "cell_type": "code",
   "execution_count": 30,
   "metadata": {},
   "outputs": [],
   "source": [
    "import pandas as pdx"
   ]
  },
  {
   "cell_type": "code",
   "execution_count": 32,
   "metadata": {},
   "outputs": [],
   "source": [
    "# Greatest Mothly Increase in Profits\n",
    "max = df [\"Profit/Losses\"].max ()"
   ]
  },
  {
   "cell_type": "code",
   "execution_count": 33,
   "metadata": {},
   "outputs": [
    {
     "output_type": "execute_result",
     "data": {
      "text/plain": "1170593"
     },
     "metadata": {},
     "execution_count": 33
    }
   ],
   "source": [
    "max"
   ]
  },
  {
   "cell_type": "code",
   "execution_count": null,
   "metadata": {},
   "outputs": [],
   "source": []
  }
 ]
}